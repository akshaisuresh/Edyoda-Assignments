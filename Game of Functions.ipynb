{
 "cells": [
  {
   "cell_type": "code",
   "execution_count": 5,
   "id": "1201aed4",
   "metadata": {},
   "outputs": [
    {
     "name": "stdout",
     "output_type": "stream",
     "text": [
      "Adding 8: Current total is 8\n",
      "Adding 2: Current total is 10\n",
      "Adding 3: Current total is 13\n",
      "Adding 0: Current total is 13\n",
      "Adding 7: Current total is 20\n",
      "The sum of the numbers is: 20\n"
     ]
    }
   ],
   "source": [
    "def sum_list_numbers(numbers):\n",
    "    total = 0\n",
    "    for num in numbers:\n",
    "        total += num\n",
    "        print(f\"Adding {num}: Current total is {total}\")\n",
    "    return total\n",
    "\n",
    "# Define the input list of numbers\n",
    "input_list = [8, 2, 3, 0, 7]\n",
    "\n",
    "# Call the sum_list_numbers function to calculate the sum\n",
    "result = sum_list_numbers(input_list)\n",
    "\n",
    "# Print the result\n",
    "print(\"The sum of the numbers is:\", result)\n"
   ]
  }
 ],
 "metadata": {
  "kernelspec": {
   "display_name": "Python 3 (ipykernel)",
   "language": "python",
   "name": "python3"
  },
  "language_info": {
   "codemirror_mode": {
    "name": "ipython",
    "version": 3
   },
   "file_extension": ".py",
   "mimetype": "text/x-python",
   "name": "python",
   "nbconvert_exporter": "python",
   "pygments_lexer": "ipython3",
   "version": "3.10.9"
  }
 },
 "nbformat": 4,
 "nbformat_minor": 5
}
