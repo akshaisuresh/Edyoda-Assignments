{
 "cells": [
  {
   "cell_type": "code",
   "execution_count": 2,
   "id": "0b861f70",
   "metadata": {},
   "outputs": [
    {
     "name": "stdout",
     "output_type": "stream",
     "text": [
      "Enter a string: 'The quick Brow Fox'\n",
      "No. of Upper case characters: 3\n",
      "No. of Lower case characters: 12\n"
     ]
    }
   ],
   "source": [
    "def count_upper_lower(string):\n",
    "    upper_count = 0\n",
    "    lower_count = 0\n",
    "    for char in string:\n",
    "        if char.isupper():  # Check if the character is uppercase\n",
    "            upper_count += 1  # Increment the uppercase count\n",
    "        elif char.islower():  # Check if the character is lowercase\n",
    "            lower_count += 1  # Increment the lowercase count\n",
    "    return upper_count, lower_count\n",
    "\n",
    "# Prompt the user to enter a string\n",
    "input_string = input(\"Enter a string: \")\n",
    "\n",
    "# Call the count_upper_lower function to count the uppercase and lowercase characters\n",
    "upper, lower = count_upper_lower(input_string)\n",
    "\n",
    "# Print the results\n",
    "print(\"No. of Upper case characters:\", upper)\n",
    "print(\"No. of Lower case characters:\", lower)"
   ]
  }
 ],
 "metadata": {
  "kernelspec": {
   "display_name": "Python 3 (ipykernel)",
   "language": "python",
   "name": "python3"
  },
  "language_info": {
   "codemirror_mode": {
    "name": "ipython",
    "version": 3
   },
   "file_extension": ".py",
   "mimetype": "text/x-python",
   "name": "python",
   "nbconvert_exporter": "python",
   "pygments_lexer": "ipython3",
   "version": "3.10.9"
  }
 },
 "nbformat": 4,
 "nbformat_minor": 5
}
