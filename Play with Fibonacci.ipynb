{
 "cells": [
  {
   "cell_type": "code",
   "execution_count": 1,
   "id": "08517d74",
   "metadata": {},
   "outputs": [
    {
     "name": "stdout",
     "output_type": "stream",
     "text": [
      "0 1 1 2 3 5 8 13 21 34 "
     ]
    }
   ],
   "source": [
    "def fibonacci_series(n):\n",
    "    fibonacci = [0, 1]  # Initialize the Fibonacci series with the first two numbers\n",
    "\n",
    "    while True:  # Run the loop indefinitely\n",
    "        next_number = fibonacci[-1] + fibonacci[-2]\n",
    "        if next_number > n:\n",
    "            break  # Break out of the loop if the next number exceeds the desired number\n",
    "        fibonacci.append(next_number)\n",
    "\n",
    "    return fibonacci\n",
    "\n",
    "\n",
    "# Call the function to generate the Fibonacci series between 0 and 50\n",
    "fibonacci_numbers = fibonacci_series(50)\n",
    "\n",
    "# Print the Fibonacci series\n",
    "for number in fibonacci_numbers:\n",
    "    print(number, end=\" \")"
   ]
  }
 ],
 "metadata": {
  "kernelspec": {
   "display_name": "Python 3 (ipykernel)",
   "language": "python",
   "name": "python3"
  },
  "language_info": {
   "codemirror_mode": {
    "name": "ipython",
    "version": 3
   },
   "file_extension": ".py",
   "mimetype": "text/x-python",
   "name": "python",
   "nbconvert_exporter": "python",
   "pygments_lexer": "ipython3",
   "version": "3.10.9"
  }
 },
 "nbformat": 4,
 "nbformat_minor": 5
}
