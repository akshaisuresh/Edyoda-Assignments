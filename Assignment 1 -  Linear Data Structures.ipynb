{
 "cells": [
  {
   "cell_type": "markdown",
   "id": "16ffd376",
   "metadata": {},
   "source": [
    "### 1. Program to find all pairs of an integer array whose sum is equal to a given number"
   ]
  },
  {
   "cell_type": "code",
   "execution_count": 1,
   "id": "041309a9",
   "metadata": {},
   "outputs": [
    {
     "name": "stdout",
     "output_type": "stream",
     "text": [
      "Enter the target sum: 8\n",
      "Enter the array elements: 1,3,5,7,9,2,4,6,8,0\n",
      "Pairs in the array that sum up to 8:\n",
      "(5, 3)\n",
      "(7, 1)\n",
      "(6, 2)\n",
      "(0, 8)\n"
     ]
    }
   ],
   "source": [
    "def find_pairs(array, target):\n",
    "    pairs = []\n",
    "    complements = set()\n",
    "\n",
    "    for num in array:\n",
    "        complement = target - num\n",
    "        if complement in complements:\n",
    "            pairs.append((num, complement))\n",
    "        complements.add(num)\n",
    "\n",
    "    return pairs\n",
    "\n",
    "# Get user input for the target sum\n",
    "target_sum = int(input(\"Enter the target sum: \"))\n",
    "\n",
    "# Get user input for the array (comma-separated integers)\n",
    "input_array = input(\"Enter the array elements: \")\n",
    "\n",
    "# Convert the input string into a list of integers\n",
    "arr = [int(num) for num in input_array.split(\",\")]\n",
    "\n",
    "# Call the function to find pairs\n",
    "result = find_pairs(arr, target_sum)\n",
    "\n",
    "print(f\"Pairs in the array that sum up to {target_sum}:\")\n",
    "for pair in result:\n",
    "    print(pair)"
   ]
  },
  {
   "cell_type": "markdown",
   "id": "fd6f1f56",
   "metadata": {},
   "source": [
    "### 2. Program to reverse an array in place. In place means you cannot create a new array. You have to update the original array"
   ]
  },
  {
   "cell_type": "code",
   "execution_count": 2,
   "id": "f7c69c71",
   "metadata": {},
   "outputs": [
    {
     "name": "stdout",
     "output_type": "stream",
     "text": [
      "Enter the array elements): 2,4,6,8,1,3,5,7,9,0\n",
      "Reversed array: [0, 9, 7, 5, 3, 1, 8, 6, 4, 2]\n"
     ]
    }
   ],
   "source": [
    "def reverse_array(array):\n",
    "    start = 0\n",
    "    end = len(array) - 1\n",
    "\n",
    "    while start < end:\n",
    "        # Swap elements at start and end indices\n",
    "        array[start], array[end] = array[end], array[start]\n",
    "\n",
    "        # Move start and end indices towards the center\n",
    "        start += 1\n",
    "        end -= 1\n",
    "\n",
    "# Get user input for the array (comma-separated integers)\n",
    "input_array = input(\"Enter the array elements): \")\n",
    "\n",
    "arr = [int(num) for num in input_array.split(\",\")]\n",
    "\n",
    "reverse_array(arr)\n",
    "\n",
    "# Print the reversed array\n",
    "print(\"Reversed array:\", arr)"
   ]
  },
  {
   "cell_type": "markdown",
   "id": "a8856aec",
   "metadata": {},
   "source": [
    "### 3. Program to check if two strings are a rotation of each other"
   ]
  },
  {
   "cell_type": "code",
   "execution_count": 3,
   "id": "c58ebef1",
   "metadata": {},
   "outputs": [
    {
     "name": "stdout",
     "output_type": "stream",
     "text": [
      "Enter the first string: Python\n",
      "Enter the second string: Python\n",
      "Python and Python are rotations of each other.\n"
     ]
    }
   ],
   "source": [
    "def are_rotations(string1, string2):\n",
    "    # Check if the lengths of the strings are equal\n",
    "    if len(string1) != len(string2):\n",
    "        return False\n",
    "\n",
    "    # Concatenate string1 with itself\n",
    "    concatenated = string1 + string1\n",
    "\n",
    "    # Check if string2 is a substring of concatenated string\n",
    "    if string2 in concatenated:\n",
    "        return True\n",
    "    else:\n",
    "        return False\n",
    "\n",
    "# Get user input for the two strings\n",
    "string1 = input(\"Enter the first string: \")\n",
    "string2 = input(\"Enter the second string: \")\n",
    "\n",
    "# Check if the strings are rotations of each other\n",
    "if are_rotations(string1, string2):\n",
    "    print(f\"{string1} and {string2} are rotations of each other.\")\n",
    "else:\n",
    "    print(f\"{string1} and {string2} are not rotations of each other.\")"
   ]
  },
  {
   "cell_type": "markdown",
   "id": "0cff151b",
   "metadata": {},
   "source": [
    "### 4. Program to print the first non-repeated character from a string"
   ]
  },
  {
   "cell_type": "code",
   "execution_count": 4,
   "id": "1ee944d9",
   "metadata": {},
   "outputs": [
    {
     "name": "stdout",
     "output_type": "stream",
     "text": [
      "Enter a string: Database Development\n",
      "The first non-repeated character: b\n"
     ]
    }
   ],
   "source": [
    "def find_first_non_repeated_char(string):\n",
    "    char_counts = {}\n",
    "\n",
    "    # Count the occurrences of each character in the string\n",
    "    for char in string:\n",
    "        if char in char_counts:\n",
    "            char_counts[char] += 1\n",
    "        else:\n",
    "            char_counts[char] = 1\n",
    "\n",
    "    # Find the first character with count 1\n",
    "    for char in string:\n",
    "        if char_counts[char] == 1:\n",
    "            return char\n",
    "\n",
    "    # If no non-repeated character found, return None\n",
    "    return None\n",
    "\n",
    "# Get user input for the string\n",
    "string = input(\"Enter a string: \")\n",
    "\n",
    "# Find the first non-repeated character\n",
    "first_non_repeated_char = find_first_non_repeated_char(string)\n",
    "\n",
    "# Print the result\n",
    "if first_non_repeated_char:\n",
    "    print(\"The first non-repeated character:\", first_non_repeated_char)\n",
    "else:\n",
    "    print(\"No non-repeated character found.\")"
   ]
  },
  {
   "cell_type": "markdown",
   "id": "8ea0fc41",
   "metadata": {},
   "source": [
    "### 5. Tower of Hanoi"
   ]
  },
  {
   "cell_type": "code",
   "execution_count": 5,
   "id": "de96b38f",
   "metadata": {},
   "outputs": [
    {
     "name": "stdout",
     "output_type": "stream",
     "text": [
      "Enter the number of disks: 3\n",
      "Move disk 1 from A to C\n",
      "Move disk 2 from A to B\n",
      "Move disk 1 from C to B\n",
      "Move disk 3 from A to C\n",
      "Move disk 1 from B to A\n",
      "Move disk 2 from B to C\n",
      "Move disk 1 from A to C\n"
     ]
    }
   ],
   "source": [
    "def tower_of_hanoi(n, source, destination, auxiliary):\n",
    "    if n > 0:\n",
    "        # Move n-1 disks from source to auxiliary peg\n",
    "        tower_of_hanoi(n-1, source, auxiliary, destination)\n",
    "\n",
    "        # Move the nth disk from source to destination peg\n",
    "        print(f\"Move disk {n} from {source} to {destination}\")\n",
    "\n",
    "        # Move the n-1 disks from auxiliary to destination peg\n",
    "        tower_of_hanoi(n-1, auxiliary, destination, source)\n",
    "\n",
    "# Get user input for the number of disks\n",
    "num_disks = int(input(\"Enter the number of disks: \"))\n",
    "\n",
    "# Call the function to solve the Tower of Hanoi puzzle\n",
    "tower_of_hanoi(num_disks, 'A', 'C', 'B')"
   ]
  },
  {
   "cell_type": "markdown",
   "id": "7b43ed72",
   "metadata": {},
   "source": [
    "### 6. Program to convert postfix to prefix expression. "
   ]
  },
  {
   "cell_type": "code",
   "execution_count": 6,
   "id": "7b158006",
   "metadata": {},
   "outputs": [
    {
     "name": "stdout",
     "output_type": "stream",
     "text": [
      "Enter a postfix expression: 2 3 1 * + 9 -\n",
      "Prefix expression: -9 \n"
     ]
    }
   ],
   "source": [
    "def is_operator(char):\n",
    "    operators = ['+', '-', '*', '/']\n",
    "    return char in operators\n",
    "\n",
    "def postfix_to_prefix(expression):\n",
    "    stack = []\n",
    "\n",
    "    for char in expression:\n",
    "        if is_operator(char):\n",
    "            operand2 = stack.pop()\n",
    "            operand1 = stack.pop()\n",
    "            prefix = char + operand1 + operand2\n",
    "            stack.append(prefix)\n",
    "        else:\n",
    "            stack.append(char)\n",
    "\n",
    "    return stack.pop()\n",
    "\n",
    "# Get user input for the postfix expression\n",
    "postfix_expression = input(\"Enter a postfix expression: \")\n",
    "\n",
    "# Convert postfix to prefix\n",
    "prefix_expression = postfix_to_prefix(postfix_expression)\n",
    "\n",
    "# Print the prefix expression\n",
    "print(\"Prefix expression:\", prefix_expression)\n"
   ]
  },
  {
   "cell_type": "markdown",
   "id": "2e416518",
   "metadata": {},
   "source": [
    "### 7. Program to convert prefix expression to infix expression "
   ]
  },
  {
   "cell_type": "code",
   "execution_count": 7,
   "id": "57cc596b",
   "metadata": {},
   "outputs": [
    {
     "name": "stdout",
     "output_type": "stream",
     "text": [
      "Enter a prefix expression: -+7*45+20\n",
      "Infix expression: ((7+(4*5))-(2+0))\n"
     ]
    }
   ],
   "source": [
    "def is_operator(char):\n",
    "    operators = ['+', '-', '*', '/']\n",
    "    return char in operators\n",
    "\n",
    "def prefix_to_infix(expression):\n",
    "    stack = []\n",
    "\n",
    "    # Read the expression in reverse order\n",
    "    for char in reversed(expression):\n",
    "        if is_operator(char):\n",
    "            operand1 = stack.pop()\n",
    "            operand2 = stack.pop()\n",
    "            infix = '(' + operand1 + char + operand2 + ')'\n",
    "            stack.append(infix)\n",
    "        else:\n",
    "            stack.append(char)\n",
    "\n",
    "    return stack.pop()\n",
    "\n",
    "# Get user input for the prefix expression\n",
    "prefix_expression = input(\"Enter a prefix expression: \")\n",
    "\n",
    "# Convert prefix to infix\n",
    "infix_expression = prefix_to_infix(prefix_expression)\n",
    "\n",
    "# Print the infix expression\n",
    "print(\"Infix expression:\", infix_expression)\n"
   ]
  },
  {
   "cell_type": "markdown",
   "id": "d02abe34",
   "metadata": {},
   "source": [
    "### 8.  Program to check if all the brackets are closed in a given code snippet."
   ]
  },
  {
   "cell_type": "code",
   "execution_count": 9,
   "id": "cf903ad4",
   "metadata": {},
   "outputs": [
    {
     "name": "stdout",
     "output_type": "stream",
     "text": [
      "Enter the code snippet: # Python3 program to add two numbers num1 = 15 num2 = 12 sum = num1 + num2  # printing values print(\"Sum of\", num1, \"and\", num2 , \"is\", sum)\n",
      "All brackets are closed.\n"
     ]
    }
   ],
   "source": [
    "def are_brackets_balanced(code):\n",
    "    stack = []\n",
    "\n",
    "    # Iterate over each character in the code snippet\n",
    "    for char in code:\n",
    "        if char in ['(', '[', '{']:\n",
    "            # Opening bracket, push to stack\n",
    "            stack.append(char)\n",
    "        elif char in [')', ']', '}']:\n",
    "            # Closing bracket, check if it matches the top of the stack\n",
    "            if len(stack) == 0:\n",
    "                # No matching opening bracket\n",
    "                return False\n",
    "\n",
    "            top = stack.pop()\n",
    "\n",
    "            if (char == ')' and top != '(') or (char == ']' and top != '[') or (char == '}' and top != '{'):\n",
    "                # Mismatched brackets\n",
    "                return False\n",
    "\n",
    "    # Check if any opening brackets are left unclosed\n",
    "    return len(stack) == 0\n",
    "\n",
    "# Get user input for the code snippet\n",
    "code = input(\"Enter the code snippet: \")\n",
    "\n",
    "# Check if brackets are balanced\n",
    "if are_brackets_balanced(code):\n",
    "    print(\"All brackets are closed.\")\n",
    "else:\n",
    "    print(\"Brackets are not balanced.\")\n"
   ]
  },
  {
   "cell_type": "markdown",
   "id": "3dc16502",
   "metadata": {},
   "source": [
    "### 9. Program to reverse a stack."
   ]
  },
  {
   "cell_type": "code",
   "execution_count": 10,
   "id": "6e14a4df",
   "metadata": {},
   "outputs": [
    {
     "name": "stdout",
     "output_type": "stream",
     "text": [
      "Original stack: [1, 2, 3, 4, 5]\n",
      "Reversed stack: [5, 4, 3, 2, 1]\n"
     ]
    }
   ],
   "source": [
    "class Stack:\n",
    "    def __init__(self):\n",
    "        self.items = []\n",
    "\n",
    "    def push(self, item):\n",
    "        self.items.append(item)\n",
    "\n",
    "    def pop(self):\n",
    "        if not self.is_empty():\n",
    "            return self.items.pop()\n",
    "        return None\n",
    "\n",
    "    def is_empty(self):\n",
    "        return len(self.items) == 0\n",
    "\n",
    "    def size(self):\n",
    "        return len(self.items)\n",
    "\n",
    "    def peek(self):\n",
    "        if not self.is_empty():\n",
    "            return self.items[-1]\n",
    "        return None\n",
    "\n",
    "\n",
    "def reverse_stack(stack):\n",
    "    if stack.is_empty():\n",
    "        return\n",
    "\n",
    "    # Remove the top item from the stack\n",
    "    item = stack.pop()\n",
    "\n",
    "    # Recursively reverse the remaining stack\n",
    "    reverse_stack(stack)\n",
    "\n",
    "    # Insert the item at the bottom of the reversed stack\n",
    "    insert_at_bottom(stack, item)\n",
    "\n",
    "\n",
    "def insert_at_bottom(stack, item):\n",
    "    if stack.is_empty():\n",
    "        stack.push(item)\n",
    "        return\n",
    "\n",
    "    # Remove all items from the stack and store them in a variable\n",
    "    temp = stack.pop()\n",
    "\n",
    "    # Recursively insert the item at the bottom of the stack\n",
    "    insert_at_bottom(stack, item)\n",
    "\n",
    "    # Push the stored items back onto the stack\n",
    "    stack.push(temp)\n",
    "\n",
    "\n",
    "# Example usage:\n",
    "\n",
    "# Create a stack\n",
    "stack = Stack()\n",
    "\n",
    "# Push elements to the stack\n",
    "stack.push(1)\n",
    "stack.push(2)\n",
    "stack.push(3)\n",
    "stack.push(4)\n",
    "stack.push(5)\n",
    "\n",
    "# Print the original stack\n",
    "print(\"Original stack:\", stack.items)\n",
    "\n",
    "# Reverse the stack\n",
    "reverse_stack(stack)\n",
    "\n",
    "# Print the reversed stack\n",
    "print(\"Reversed stack:\", stack.items)\n"
   ]
  },
  {
   "cell_type": "markdown",
   "id": "21500e4a",
   "metadata": {},
   "source": [
    "### 10. Program to find the smallest number using a stack."
   ]
  },
  {
   "cell_type": "code",
   "execution_count": 11,
   "id": "2cc281e5",
   "metadata": {},
   "outputs": [
    {
     "name": "stdout",
     "output_type": "stream",
     "text": [
      "Original stack: [5, 2, 8, 3, 1]\n",
      "Smallest number: 1\n"
     ]
    }
   ],
   "source": [
    "class Stack:\n",
    "    def __init__(self):\n",
    "        self.items = []\n",
    "\n",
    "    def push(self, item):\n",
    "        self.items.append(item)\n",
    "\n",
    "    def pop(self):\n",
    "        if not self.is_empty():\n",
    "            return self.items.pop()\n",
    "        return None\n",
    "\n",
    "    def is_empty(self):\n",
    "        return len(self.items) == 0\n",
    "\n",
    "    def size(self):\n",
    "        return len(self.items)\n",
    "\n",
    "    def peek(self):\n",
    "        if not self.is_empty():\n",
    "            return self.items[-1]\n",
    "        return None\n",
    "\n",
    "\n",
    "def find_smallest_number(stack):\n",
    "    if stack.is_empty():\n",
    "        return None\n",
    "\n",
    "    # Set the top item as the smallest number initially\n",
    "    smallest = stack.pop()\n",
    "\n",
    "    # Traverse the remaining stack items and update the smallest number if necessary\n",
    "    while not stack.is_empty():\n",
    "        item = stack.pop()\n",
    "        if item < smallest:\n",
    "            smallest = item\n",
    "\n",
    "    return smallest\n",
    "\n",
    "\n",
    "# Example usage:\n",
    "\n",
    "# Create a stack\n",
    "stack = Stack()\n",
    "\n",
    "# Push elements to the stack\n",
    "stack.push(5)\n",
    "stack.push(2)\n",
    "stack.push(8)\n",
    "stack.push(3)\n",
    "stack.push(1)\n",
    "\n",
    "# Print the original stack\n",
    "print(\"Original stack:\", stack.items)\n",
    "\n",
    "# Find the smallest number in the stack\n",
    "smallest_number = find_smallest_number(stack)\n",
    "\n",
    "# Print the smallest number\n",
    "if smallest_number is not None:\n",
    "    print(\"Smallest number:\", smallest_number)\n",
    "else:\n",
    "    print(\"Stack is empty.\")\n"
   ]
  }
 ],
 "metadata": {
  "kernelspec": {
   "display_name": "Python 3 (ipykernel)",
   "language": "python",
   "name": "python3"
  },
  "language_info": {
   "codemirror_mode": {
    "name": "ipython",
    "version": 3
   },
   "file_extension": ".py",
   "mimetype": "text/x-python",
   "name": "python",
   "nbconvert_exporter": "python",
   "pygments_lexer": "ipython3",
   "version": "3.10.9"
  }
 },
 "nbformat": 4,
 "nbformat_minor": 5
}
