{
 "cells": [
  {
   "cell_type": "code",
   "execution_count": 1,
   "id": "78b4c549",
   "metadata": {},
   "outputs": [
    {
     "name": "stdout",
     "output_type": "stream",
     "text": [
      "Enter a list of integers (space-separated): 4 5 2 9 \n",
      "Square the elements of the list:\n",
      "[16, 25, 4, 81]\n"
     ]
    }
   ],
   "source": [
    "# User input\n",
    "numbers = input(\"Enter a list of integers (space-separated): \").split()\n",
    "numbers = list(map(int, numbers))\n",
    "\n",
    "# Define the lambda function to square a number\n",
    "square = lambda x: x ** 2\n",
    "\n",
    "# Use map() to square all the numbers in the list\n",
    "squared_numbers = list(map(square, numbers))\n",
    "\n",
    "# Print the squared numbers\n",
    "print(\"Square the elements of the list:\")\n",
    "print(squared_numbers)"
   ]
  }
 ],
 "metadata": {
  "kernelspec": {
   "display_name": "Python 3 (ipykernel)",
   "language": "python",
   "name": "python3"
  },
  "language_info": {
   "codemirror_mode": {
    "name": "ipython",
    "version": 3
   },
   "file_extension": ".py",
   "mimetype": "text/x-python",
   "name": "python",
   "nbconvert_exporter": "python",
   "pygments_lexer": "ipython3",
   "version": "3.10.9"
  }
 },
 "nbformat": 4,
 "nbformat_minor": 5
}
