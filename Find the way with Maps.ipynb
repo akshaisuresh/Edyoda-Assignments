{
 "cells": [
  {
   "cell_type": "code",
   "execution_count": 3,
   "id": "f3aef5d2",
   "metadata": {},
   "outputs": [
    {
     "name": "stdout",
     "output_type": "stream",
     "text": [
      "Enter a list of integers (space-separated): 1 2 3 4 5 6 7 \n",
      "Triple of list numbers:\n",
      "[3, 6, 9, 12, 15, 18, 21]\n"
     ]
    }
   ],
   "source": [
    "# User input\n",
    "numbers = input(\"Enter a list of integers (space-separated): \").split()\n",
    "numbers = list(map(int, numbers))\n",
    "\n",
    "# Define the lambda function to triple a number\n",
    "triple = lambda x: x * 3\n",
    "\n",
    "# Use map() to triple all the numbers in the list\n",
    "tripled_numbers = list(map(triple, numbers))\n",
    "\n",
    "# Print the tripled numbers\n",
    "print(\"Triple of list numbers:\")\n",
    "print(tripled_numbers)\n"
   ]
  }
 ],
 "metadata": {
  "kernelspec": {
   "display_name": "Python 3 (ipykernel)",
   "language": "python",
   "name": "python3"
  },
  "language_info": {
   "codemirror_mode": {
    "name": "ipython",
    "version": 3
   },
   "file_extension": ".py",
   "mimetype": "text/x-python",
   "name": "python",
   "nbconvert_exporter": "python",
   "pygments_lexer": "ipython3",
   "version": "3.10.9"
  }
 },
 "nbformat": 4,
 "nbformat_minor": 5
}
