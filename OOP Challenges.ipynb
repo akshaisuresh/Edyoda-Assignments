{
 "cells": [
  {
   "cell_type": "markdown",
   "id": "4c94487d",
   "metadata": {},
   "source": [
    "## Challenge 01: Square Numbers and Return Their Sum"
   ]
  },
  {
   "cell_type": "code",
   "execution_count": 18,
   "id": "920a35dc",
   "metadata": {},
   "outputs": [
    {
     "name": "stdout",
     "output_type": "stream",
     "text": [
      "Enter the value of x: 1\n",
      "Enter the value of y: 3\n",
      "Enter the value of z: 5\n",
      "35\n"
     ]
    }
   ],
   "source": [
    "class Point:\n",
    "    def __init__(self, x=None, y=None, z=None):\n",
    "        self.x = x\n",
    "        self.y = y\n",
    "        self.z = z\n",
    "    \n",
    "    def sqSum(self):\n",
    "        return (self.x ** 2) + (self.y ** 2) + (self.z ** 2)\n",
    "\n",
    "# User input prompt\n",
    "x = int(input(\"Enter the value of x: \"))\n",
    "y = int(input(\"Enter the value of y: \"))\n",
    "z = int(input(\"Enter the value of z: \"))\n",
    "\n",
    "# Create a Point object with user input values\n",
    "point = Point(x, y, z)\n",
    "\n",
    "# Calculate the sum of squares using the sqSum() method\n",
    "result = point.sqSum()\n",
    "\n",
    "# Print the result\n",
    "print(result)\n"
   ]
  },
  {
   "cell_type": "markdown",
   "id": "6e6844cf",
   "metadata": {},
   "source": [
    "## Challenge 02: Implement a Calculator Class"
   ]
  },
  {
   "cell_type": "code",
   "execution_count": 19,
   "id": "79d9ecfa",
   "metadata": {},
   "outputs": [
    {
     "name": "stdout",
     "output_type": "stream",
     "text": [
      "Enter the value of num1: 10\n",
      "Enter the value of num2: 94\n",
      "104.0\n",
      "84.0\n",
      "940.0\n",
      "9.4\n"
     ]
    }
   ],
   "source": [
    "class Calculator:\n",
    "    def __init__(self, num1, num2):\n",
    "        self.num1 = num1\n",
    "        self.num2 = num2\n",
    "    \n",
    "    def add(self):\n",
    "        return self.num1 + self.num2\n",
    "    \n",
    "    def subtract(self):\n",
    "        return self.num2 - self.num1\n",
    "    \n",
    "    def multiply(self):\n",
    "        return self.num1 * self.num2\n",
    "    \n",
    "    def divide(self):\n",
    "        return self.num2 / self.num1\n",
    "\n",
    "\n",
    "# Obtain user input for num1 and num2\n",
    "num1 = float(input(\"Enter the value of num1: \"))\n",
    "num2 = float(input(\"Enter the value of num2: \"))\n",
    "\n",
    "# Create Calculator object with user input values\n",
    "obj = Calculator(num1, num2)\n",
    "\n",
    "# Perform calculations and print the results\n",
    "print(obj.add())      # Output: sum of num1 and num2\n",
    "print(obj.subtract()) # Output: subtraction of num1 from num2\n",
    "print(obj.multiply()) # Output: product of num1 and num2\n",
    "print(obj.divide())   # Output: division of num2 by num1"
   ]
  },
  {
   "cell_type": "markdown",
   "id": "ec70cafd",
   "metadata": {},
   "source": [
    "##  Challenge 03: Implement the Complete Student Class"
   ]
  },
  {
   "cell_type": "code",
   "execution_count": 20,
   "id": "e69f827e",
   "metadata": {},
   "outputs": [
    {
     "name": "stdout",
     "output_type": "stream",
     "text": [
      "Enter the name of the student: Akshay P Suresh \n",
      "Enter the roll number of the student: 12345\n",
      "Name: Akshay P Suresh \n",
      "Roll Number: 12345\n"
     ]
    }
   ],
   "source": [
    "class Student:\n",
    "    def __init__(self):\n",
    "        self._name = None\n",
    "        self._rollNumber = None\n",
    "    \n",
    "    def setName(self, name):\n",
    "        self._name = name\n",
    "    \n",
    "    def getName(self):\n",
    "        return self._name\n",
    "    \n",
    "    def setRollNumber(self, rollNumber):\n",
    "        self._rollNumber = rollNumber\n",
    "    \n",
    "    def getRollNumber(self):\n",
    "        return self._rollNumber\n",
    "\n",
    "\n",
    "# Create a Student object\n",
    "student = Student()\n",
    "\n",
    "# Prompt the user for name and roll number\n",
    "name = input(\"Enter the name of the student: \")\n",
    "rollNumber = input(\"Enter the roll number of the student: \")\n",
    "\n",
    "# Set the name and roll number using the setter methods\n",
    "student.setName(name)\n",
    "student.setRollNumber(rollNumber)\n",
    "\n",
    "# Retrieve the name and roll number using the getter methods\n",
    "name = student.getName()\n",
    "rollNumber = student.getRollNumber()\n",
    "\n",
    "# Print the output\n",
    "print(\"Name:\", name)\n",
    "print(\"Roll Number:\", rollNumber)"
   ]
  },
  {
   "cell_type": "markdown",
   "id": "6448ff0e",
   "metadata": {},
   "source": [
    "## Challenge 04: Implement a Banking Account"
   ]
  },
  {
   "cell_type": "code",
   "execution_count": 21,
   "id": "fc904795",
   "metadata": {},
   "outputs": [
    {
     "name": "stdout",
     "output_type": "stream",
     "text": [
      "Enter the account title: Ashish \n",
      "Enter the account balance: 5000\n",
      "Enter the interest rate: 5\n",
      "Account:\n",
      "Title: Ashish \n",
      "Balance: 5000.0\n",
      "\n",
      "Savings Account:\n",
      "Title: Ashish \n",
      "Balance: 5000.0\n",
      "Interest Rate: 5.0\n"
     ]
    }
   ],
   "source": [
    "class Account:\n",
    "    def __init__(self, title, balance):\n",
    "        self.title = title\n",
    "        self.balance = balance\n",
    "\n",
    "\n",
    "class SavingsAccount(Account):\n",
    "    def __init__(self, title, balance, interestRate):\n",
    "        super().__init__(title, balance)\n",
    "        self.interestRate = interestRate\n",
    "\n",
    "\n",
    "# Obtain user input for Account details\n",
    "title = input(\"Enter the account title: \")\n",
    "balance = float(input(\"Enter the account balance: \"))\n",
    "\n",
    "# Create an Account object with user input values\n",
    "account = Account(title, balance)\n",
    "\n",
    "# Obtain user input for SavingsAccount details\n",
    "interestRate = float(input(\"Enter the interest rate: \"))\n",
    "\n",
    "# Create a SavingsAccount object with user input values\n",
    "savingsAccount = SavingsAccount(title, balance, interestRate)\n",
    "\n",
    "# Print the details of the Account and SavingsAccount objects\n",
    "print(\"Account:\")\n",
    "print(\"Title:\", account.title)\n",
    "print(\"Balance:\", account.balance)\n",
    "\n",
    "print(\"\\nSavings Account:\")\n",
    "print(\"Title:\", savingsAccount.title)\n",
    "print(\"Balance:\", savingsAccount.balance)\n",
    "print(\"Interest Rate:\", savingsAccount.interestRate)\n"
   ]
  },
  {
   "cell_type": "markdown",
   "id": "90fb061e",
   "metadata": {},
   "source": [
    "## Challenge 05:  Handling a Bank Account"
   ]
  },
  {
   "cell_type": "code",
   "execution_count": 22,
   "id": "77becd8e",
   "metadata": {},
   "outputs": [
    {
     "name": "stdout",
     "output_type": "stream",
     "text": [
      "Enter the account title: Ashish\n",
      "Enter the account balance: 5000\n",
      "Enter the interest rate: 5\n",
      "Enter the deposit amount: 1000\n",
      "Balance after deposit: 6000.0\n",
      "Enter the withdrawal amount: 500\n",
      "Balance after withdrawal: 5500.0\n",
      "Interest amount: 275.0\n"
     ]
    }
   ],
   "source": [
    "class Account:\n",
    "    def __init__(self, title=None, balance=0):\n",
    "        self.title = title\n",
    "        self.balance = balance\n",
    "    \n",
    "    def withdrawal(self, amount):\n",
    "        self.balance -= amount\n",
    "\n",
    "    def deposit(self, amount):\n",
    "        self.balance += amount\n",
    "    \n",
    "    def getBalance(self):\n",
    "        return self.balance\n",
    "\n",
    "\n",
    "class SavingsAccount(Account):\n",
    "    def __init__(self, title=None, balance=0, interestRate=0):\n",
    "        super().__init__(title, balance)\n",
    "        self.interestRate = interestRate\n",
    "    \n",
    "    def interestAmount(self):\n",
    "        return (self.balance * self.interestRate) / 100\n",
    "\n",
    "\n",
    "# Obtain user input for Account details\n",
    "title = input(\"Enter the account title: \")\n",
    "balance = float(input(\"Enter the account balance: \"))\n",
    "\n",
    "# Create an Account object with user input values\n",
    "account = Account(title, balance)\n",
    "\n",
    "# Obtain user input for SavingsAccount details\n",
    "interestRate = float(input(\"Enter the interest rate: \"))\n",
    "\n",
    "# Create a SavingsAccount object with user input values\n",
    "savingsAccount = SavingsAccount(title, balance, interestRate)\n",
    "\n",
    "# Test code\n",
    "deposit_amount = float(input(\"Enter the deposit amount: \"))\n",
    "savingsAccount.deposit(deposit_amount)\n",
    "print(\"Balance after deposit:\", savingsAccount.getBalance())\n",
    "\n",
    "withdrawal_amount = float(input(\"Enter the withdrawal amount: \"))\n",
    "savingsAccount.withdrawal(withdrawal_amount)\n",
    "print(\"Balance after withdrawal:\", savingsAccount.getBalance())\n",
    "\n",
    "interest_amount = savingsAccount.interestAmount()\n",
    "print(\"Interest amount:\", interest_amount)"
   ]
  }
 ],
 "metadata": {
  "kernelspec": {
   "display_name": "Python 3 (ipykernel)",
   "language": "python",
   "name": "python3"
  },
  "language_info": {
   "codemirror_mode": {
    "name": "ipython",
    "version": 3
   },
   "file_extension": ".py",
   "mimetype": "text/x-python",
   "name": "python",
   "nbconvert_exporter": "python",
   "pygments_lexer": "ipython3",
   "version": "3.10.9"
  }
 },
 "nbformat": 4,
 "nbformat_minor": 5
}
